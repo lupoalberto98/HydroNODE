{
 "cells": [
  {
   "cell_type": "code",
   "execution_count": 2,
   "id": "5ae8c902-b2b0-4cb3-937a-4cb58a913523",
   "metadata": {},
   "outputs": [
    {
     "name": "stderr",
     "output_type": "stream",
     "text": [
      "\u001b[32m\u001b[1m  Activating\u001b[22m\u001b[39m project at `~/Documenti/HydroNODE`\n"
     ]
    },
    {
     "data": {
      "text/plain": [
       "TaskLocalRNG()"
      ]
     },
     "execution_count": 2,
     "metadata": {},
     "output_type": "execute_result"
    }
   ],
   "source": [
    "cd(@__DIR__)\n",
    "using Pkg; Pkg.activate(\".\"); Pkg.instantiate()\n",
    "\n",
    "using Revise\n",
    "\n",
    "using DataFrames, Dates, Statistics\n",
    "using DelimitedFiles, CSV\n",
    "\n",
    "using OrdinaryDiffEq, DiffEqFlux, Flux\n",
    "using SciMLSensitivity\n",
    "\n",
    "using Optimization, BlackBoxOptim\n",
    "using Zygote\n",
    "\n",
    "using Interpolations\n",
    "\n",
    "using Random\n",
    "Random.seed!(123)\n"
   ]
  },
  {
   "cell_type": "code",
   "execution_count": 22,
   "id": "4832ae20-2ba8-4da0-9ed5-d06596b17bf3",
   "metadata": {},
   "outputs": [
    {
     "data": {
      "text/plain": [
       "([8.381253 0.0 -11.42; 8.403639 0.0 -10.7; … ; 11.520014 0.0 11.41; 11.424003 0.32 14.075;;;; 8.662769 0.0 -5.655; 8.695014 0.0 -4.54; … ; 11.520002 0.0 14.085; 11.520002 0.0 14.65;;;; 8.542522 0.0 -8.41; 8.56005 0.0 -7.675; … ; 11.520011 0.14 13.24; 11.498417 0.0 14.66;;;; … ;;;; 0.0 0.0 0.0; 0.0 0.0 0.0; … ; 0.0 0.0 0.0; 0.0 0.0 0.0;;;; 0.0 0.0 0.0; 0.0 0.0 0.0; … ; 0.0 0.0 0.0; 0.0 0.0 0.0;;;; 0.0 0.0 0.0; 0.0 0.0 0.0; … ; 0.0 0.0 0.0; 0.0 0.0 0.0], [0.7090447; 0.692807; … ; 0.46006715; 0.42759183;;;; 1.6444391; 1.4570979; … ; 0.6785913; 0.699407;;;; 1.7327809; 1.5061865; … ; 0.09930167; 0.15061864;;;; … ;;;; 1.013314f-39; 0.0; … ; 1.014784f-39; 0.0;;;; 1.014785f-39; 0.0; … ; 1.013296f-39; 0.0;;;; 1.013297f-39; 0.0; … ; 1.014767f-39; 0.0], [0.0, 1.0, 2.0, 3.0, 4.0, 5.0, 6.0, 7.0, 8.0, 9.0  …  2090.0, 2091.0, 2092.0, 2093.0, 2094.0, 2095.0, 2096.0, 2097.0, 2098.0, 2099.0])"
      ]
     },
     "execution_count": 22,
     "metadata": {},
     "output_type": "execute_result"
    }
   ],
   "source": [
    "includet(\"ae.jl\")\n",
    "data_path = joinpath(pwd(),\"basin_dataset_public_v1p2\")\n",
    "data_x, data_y, timepoints = prepare_multiple_basins(data_path)"
   ]
  },
  {
   "cell_type": "code",
   "execution_count": 38,
   "id": "11ed8067-c763-406f-92b7-e97f1559a1ae",
   "metadata": {},
   "outputs": [
    {
     "name": "stderr",
     "output_type": "stream",
     "text": [
      "\u001b[91mERROR: \u001b[39mUndefVarError: chosen_model_id not defined\n",
      "Stacktrace:\n",
      " [1] top-level scope\n",
      "\u001b[90m   @ \u001b[39m\u001b[90m~/Documenti/HydroNODE/\u001b[39m\u001b[90m\u001b[4mHydroNODE_models.jl:190\u001b[24m\u001b[39m\n",
      "in expression starting at /home/alberto/Documenti/HydroNODE/HydroNODE_models.jl:190\n"
     ]
    }
   ],
   "source": [
    "includet(\"HydroNODE_data.jl\")\n",
    "includet(\"HydroNODE_models.jl\")\n",
    "includet(\"HydroNODE_training.jl\")\n"
   ]
  },
  {
   "cell_type": "code",
   "execution_count": 23,
   "id": "9fffaff6-3f9e-42ef-b6da-9b230298bd6d",
   "metadata": {},
   "outputs": [
    {
     "data": {
      "text/plain": [
       "Encoder (generic function with 1 method)"
      ]
     },
     "execution_count": 23,
     "metadata": {},
     "output_type": "execute_result"
    }
   ],
   "source": [
    "\n",
    "function Encoder(enc_space_dim; drop_p=0.5)\n",
    "    # Define the encoder and decoder networks\n",
    "    encoder_features = Chain(\n",
    "        Conv((4, 1), 1 => 8; stride = (4,1), pad = 0),\n",
    "        BatchNorm(8, leakyrelu),\n",
    "        Dropout(drop_p),\n",
    "        \n",
    "        Conv((4, 1), 8 => 8; stride = 1, pad = 0),\n",
    "        BatchNorm(8, leakyrelu),\n",
    "        Dropout(drop_p),\n",
    "        MaxPool((2, 1), pad=0),\n",
    "        \n",
    "        Conv((6, 1), 8 => 16; stride = 1, pad = 0),\n",
    "        BatchNorm(16, leakyrelu),\n",
    "        Dropout(drop_p),\n",
    "        \n",
    "        Conv((2, 1), 16 => 16; stride = (2,1), pad = 0),\n",
    "        BatchNorm(16, leakyrelu),\n",
    "        Dropout(drop_p),\n",
    "        MaxPool((2, 1), pad=0),\n",
    "        \n",
    "        Flux.flatten,\n",
    "        Dense(16 * 64 * 1, 256, relu),\n",
    "        Dense(256, enc_space_dim, relu)\n",
    "    ) |> gpu\n",
    "    \n",
    "    return encoder_features\n",
    "end\n",
    "\n"
   ]
  },
  {
   "cell_type": "code",
   "execution_count": 25,
   "id": "b27e57d4-007b-40e4-8c2e-4ad1ea9d2255",
   "metadata": {},
   "outputs": [
    {
     "name": "stdout",
     "output_type": "stream",
     "text": [
      "(2100, 3, 1, 598)(2100, 1, 1, 598)"
     ]
    }
   ],
   "source": [
    "loader = Flux.DataLoader((data_x[:,:,:,1:560], data_y[:,:,:,1:560]), batchsize=16, shuffle=true)\n",
    "print(sizeSEQ_LEN(data_x))\n",
    "print(size(data_y))"
   ]
  },
  {
   "cell_type": "code",
   "execution_count": 37,
   "id": "498d42fb-182f-4ea3-a76a-c4c88210b833",
   "metadata": {},
   "outputs": [
    {
     "name": "stdout",
     "output_type": "stream",
     "text": [
      "(2100, 10, 1, 16)(2100, 10, 1, 16)(2100, 10, 1, 16)(2100, 10, 1, 16)(2100, 10, 1, 16)(2100, 10, 1, 16)(2100, 10, 1, 16)(2100, 10, 1, 16)(2100, 10, 1, 16)(2100, 10, 1, 16)(2100, 10, 1, 16)(2100, 10, 1, 16)(2100, 10, 1, 16)(2100, 10, 1, 16)(2100, 10, 1, 16)(2100, 10, 1, 16)(2100, 10, 1, 16)(2100, 10, 1, 16)(2100, 10, 1, 16)(2100, 10, 1, 16)(2100, 10, 1, 16)(2100, 10, 1, 16)(2100, 10, 1, 16)(2100, 10, 1, 16)(2100, 10, 1, 16)(2100, 10, 1, 16)(2100, 10, 1, 16)(2100, 10, 1, 16)(2100, 10, 1, 16)(2100, 10, 1, 16)(2100, 10, 1, 16)(2100, 10, 1, 16)(2100, 10, 1, 16)(2100, 10, 1, 16)(2100, 10, 1, 16)"
     ]
    }
   ],
   "source": [
    "# define the encoder network\n",
    "enc_space_dim = 27\n",
    "enc = Encoder(enc_space_dim)\n",
    "\n",
    "# choose optimizer\n",
    "optimizer = ADAM(0.001)\n",
    "\n",
    "seq_len = size(timepoints)[1]\n",
    "\n",
    "# training loop\n",
    "num_epochs = 1\n",
    "for epoch in 1:num_epochs\n",
    "    for batch in loader\n",
    "        # retrieve batches\n",
    "        batch_x, batch_y = batch\n",
    "        # compute encded features\n",
    "        enc_data = enc(batch_y)\n",
    "        # unqueeze enc_data\n",
    "        enc_data = Flux.unsqueeze(Flux.unsqueeze(enc_data, 2), 1)\n",
    "        extended_data = cat(dims=2, batch_x, repeat(enc_data, seq_len, 1, 1, 1))\n",
    "        print(size(extended_data))\n",
    "    end\n",
    "end\n"
   ]
  },
  {
   "cell_type": "code",
   "execution_count": null,
   "id": "c5e8acac-50ed-47a2-8a07-424ec36c643d",
   "metadata": {},
   "outputs": [],
   "source": [
    "a = [\"2\", \"3\", \"4\", \"5\"]\n",
    "ind = [1,3]\n",
    "a[ind]"
   ]
  },
  {
   "cell_type": "code",
   "execution_count": 35,
   "id": "1db5ca7e-2fbc-434c-b252-f36f9d5c6fcf",
   "metadata": {},
   "outputs": [
    {
     "data": {
      "text/plain": [
       "ConvEncoder (generic function with 1 method)"
      ]
     },
     "execution_count": 35,
     "metadata": {},
     "output_type": "execute_result"
    }
   ],
   "source": [
    "function ConvEncoder(; imgsize=(365,1,1), nclasses=27) \n",
    "    out_conv_size = (imgsize[1]÷4 - 3, 1, 16)\n",
    "    \n",
    "    return Chain(\n",
    "            Conv((5, 1), imgsize[end]=>8, relu),\n",
    "            MaxPool((2, 1)),\n",
    "            Conv((5, 1), 6=>16, relu),\n",
    "            MaxPool((2, 1)),\n",
    "            flatten,\n",
    "            Dense(prod(out_conv_size), 128, relu), \n",
    "            Dense(128, 64, relu), \n",
    "            Dense(64, nclasses)\n",
    "          )\n",
    "end"
   ]
  },
  {
   "cell_type": "code",
   "execution_count": null,
   "id": "ecb16d5c-8465-4d7a-a1d1-101e90a26076",
   "metadata": {},
   "outputs": [],
   "source": []
  }
 ],
 "metadata": {
  "kernelspec": {
   "display_name": "Julia 1.8.3",
   "language": "julia",
   "name": "julia-1.8"
  },
  "language_info": {
   "file_extension": ".jl",
   "mimetype": "application/julia",
   "name": "julia",
   "version": "1.8.3"
  }
 },
 "nbformat": 4,
 "nbformat_minor": 5
}
