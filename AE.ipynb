{
 "cells": [
  {
   "cell_type": "code",
   "execution_count": 1,
   "id": "5ae8c902-b2b0-4cb3-937a-4cb58a913523",
   "metadata": {},
   "outputs": [
    {
     "name": "stderr",
     "output_type": "stream",
     "text": [
      "\u001b[32m\u001b[1m  Activating\u001b[22m\u001b[39m project at `~/Documenti/HydroNODE`\n"
     ]
    },
    {
     "data": {
      "text/plain": [
       "TaskLocalRNG()"
      ]
     },
     "execution_count": 1,
     "metadata": {},
     "output_type": "execute_result"
    }
   ],
   "source": [
    "cd(@__DIR__)\n",
    "using Pkg; Pkg.activate(\".\"); Pkg.instantiate()\n",
    "\n",
    "using Revise\n",
    "\n",
    "using DataFrames, Dates, Statistics\n",
    "using DelimitedFiles, CSV\n",
    "\n",
    "using OrdinaryDiffEq, DiffEqFlux, Flux\n",
    "using SciMLSensitivity\n",
    "\n",
    "using Optimization, BlackBoxOptim\n",
    "using Zygote\n",
    "\n",
    "using Interpolations\n",
    "\n",
    "using Random\n",
    "Random.seed!(123)\n"
   ]
  },
  {
   "cell_type": "code",
   "execution_count": 10,
   "id": "4832ae20-2ba8-4da0-9ed5-d06596b17bf3",
   "metadata": {},
   "outputs": [
    {
     "data": {
      "text/plain": [
       "([8.381253 0.0 -11.42; 8.403639 0.0 -10.7; … ; 11.520014 0.0 11.41; 11.424003 0.32 14.075;;;; 8.662769 0.0 -5.655; 8.695014 0.0 -4.54; … ; 11.520002 0.0 14.085; 11.520002 0.0 14.65;;;; 8.542522 0.0 -8.41; 8.56005 0.0 -7.675; … ; 11.520011 0.14 13.24; 11.498417 0.0 14.66;;;; … ;;;; 1.022153f-39 1.012986f-39 1.014457f-39; 0.0 0.0 0.0; … ; 1.012985f-39 1.014456f-39 1.015927f-39; 0.0 0.0 0.0;;;; 1.015929f-39 1.0174f-39 1.018872f-39; 0.0 0.0 0.0; … ; 1.017399f-39 1.01887f-39 1.020341f-39; 0.0 0.0 0.0;;;; 1.020343f-39 1.021814f-39 1.023286f-39; 0.0 0.0 0.0; … ; 1.021813f-39 1.023284f-39 1.014117f-39; 0.0 0.0 0.0], [0.7090447; 0.692807; … ; 0.46006715; 0.42759183;;; 1.6444391; 1.4570979; … ; 0.6785913; 0.699407;;; 1.7327809; 1.5061865; … ; 0.09930167; 0.15061864;;; … ;;; 1.015971f-39; 0.0; … ; 1.017441f-39; 0.0;;; 1.017442f-39; 0.0; … ; 1.018912f-39; 0.0;;; 1.018914f-39; 0.0; … ; 1.020384f-39; 0.0], [0.0, 1.0, 2.0, 3.0, 4.0, 5.0, 6.0, 7.0, 8.0, 9.0  …  2090.0, 2091.0, 2092.0, 2093.0, 2094.0, 2095.0, 2096.0, 2097.0, 2098.0, 2099.0])"
      ]
     },
     "execution_count": 10,
     "metadata": {},
     "output_type": "execute_result"
    }
   ],
   "source": [
    "includet(\"ae.jl\")\n",
    "data_path = joinpath(pwd(),\"basin_dataset_public_v1p2\")\n",
    "data_x, data_sizey, timepoints = prepare_multiple_basins(data_path)"
   ]
  },
  {
   "cell_type": "code",
   "execution_count": 32,
   "id": "9fffaff6-3f9e-42ef-b6da-9b230298bd6d",
   "metadata": {},
   "outputs": [
    {
     "name": "stderr",
     "output_type": "stream",
     "text": [
      "┌ Info: The GPU function is being called but the GPU is not accessible. \n",
      "│ Defaulting back to the CPU. (No action is required if you want to run on the CPU).\n",
      "└ @ Flux /home/alberto/.julia/packages/Flux/nJ0IB/src/functor.jl:198\n"
     ]
    },
    {
     "data": {
      "text/plain": [
       "Chain(\n",
       "  Conv((4, 3), 1 => 8, stride=(4, 1)),  \u001b[90m# 104 parameters\u001b[39m\n",
       "  BatchNorm(8, leakyrelu),              \u001b[90m# 16 parameters\u001b[39m\u001b[90m, plus 16\u001b[39m\n",
       "  Dropout(0.5),\n",
       "  Conv((4, 1), 8 => 8),                 \u001b[90m# 264 parameters\u001b[39m\n",
       "  BatchNorm(8, leakyrelu),              \u001b[90m# 16 parameters\u001b[39m\u001b[90m, plus 16\u001b[39m\n",
       "  Dropout(0.5),\n",
       "  MaxPool((2, 1)),\n",
       "  Conv((6, 1), 8 => 16),                \u001b[90m# 784 parameters\u001b[39m\n",
       "  BatchNorm(16, leakyrelu),             \u001b[90m# 32 parameters\u001b[39m\u001b[90m, plus 32\u001b[39m\n",
       "  Dropout(0.5),\n",
       "  Conv((2, 1), 16 => 16, stride=(2, 1)),  \u001b[90m# 528 parameters\u001b[39m\n",
       "  BatchNorm(16, leakyrelu),             \u001b[90m# 32 parameters\u001b[39m\u001b[90m, plus 32\u001b[39m\n",
       "  Dropout(0.5),\n",
       "  MaxPool((2, 1)),\n",
       "  Flux.flatten,\n",
       "  Dense(1024 => 256, relu),             \u001b[90m# 262_400 parameters\u001b[39m\n",
       "  Dense(256 => 27, relu),               \u001b[90m# 6_939 parameters\u001b[39m\n",
       ") \u001b[90m        # Total: 20 trainable arrays, \u001b[39m271_115 parameters,\n",
       "\u001b[90m          # plus 8 non-trainable, 96 parameters, summarysize \u001b[39m1.037 MiB."
      ]
     },
     "execution_count": 32,
     "metadata": {},
     "output_type": "execute_result"
    }
   ],
   "source": [
    "\n",
    "function Encoder(enc_space_dim; drop_p=0.5)\n",
    "    # Define the encoder and decoder networks\n",
    "    encoder_features = Chain(\n",
    "        Conv((4, 3), 1 => 8; stride = (4,1), pad = 0),\n",
    "        BatchNorm(8, leakyrelu),\n",
    "        Dropout(drop_p),\n",
    "        \n",
    "        Conv((4, 1), 8 => 8; stride = 1, pad = 0),\n",
    "        BatchNorm(8, leakyrelu),\n",
    "        Dropout(drop_p),\n",
    "        MaxPool((2, 1), pad=0),\n",
    "        \n",
    "        Conv((6, 1), 8 => 16; stride = 1, pad = 0),\n",
    "        BatchNorm(16, leakyrelu),\n",
    "        Dropout(drop_p),\n",
    "        \n",
    "        Conv((2, 1), 16 => 16; stride = (2,1), pad = 0),\n",
    "        BatchNorm(16, leakyrelu),\n",
    "        Dropout(drop_p),\n",
    "        MaxPool((2, 1), pad=0),\n",
    "        \n",
    "        Flux.flatten,\n",
    "        Dense(16 * 64 * 1, 256, relu),\n",
    "        Dense(256, enc_space_dim, relu)\n",
    "    ) |> gpu\n",
    "    \n",
    "    return encoder_features\n",
    "end\n",
    "\n",
    "enc = Encoder(27)"
   ]
  },
  {
   "cell_type": "code",
   "execution_count": 30,
   "id": "b27e57d4-007b-40e4-8c2e-4ad1ea9d2255",
   "metadata": {},
   "outputs": [
    {
     "name": "stdout",
     "output_type": "stream",
     "text": [
      "(2100, 3, 1, 598)"
     ]
    }
   ],
   "source": [
    "loader = Flux.DataLoader((data_x[:,:,:,560],), batchsize=16, shuffle=true);\n",
    "print(size(data_x))"
   ]
  },
  {
   "cell_type": "code",
   "execution_count": 31,
   "id": "498d42fb-182f-4ea3-a76a-c4c88210b833",
   "metadata": {},
   "outputs": [
    {
     "data": {
      "text/plain": [
       "27×598 Matrix{Float32}:\n",
       " 0.588998  0.155452  0.291149  …  4.49724f18  3.1266f-41  0.0\n",
       " 1.01985   0.118422  0.450991     0.0         2.4703f-41  8.50278f17\n",
       " 1.64973   1.19627   1.52621      4.57943f18  5.0828f-41  3.34035f18\n",
       " 1.55591   1.95971   1.6194       1.59424f18  8.8615f-41  9.39955f18\n",
       " 0.0       0.0       0.0          0.0         0.0         0.0\n",
       " 0.668317  0.260696  0.0       …  1.4284f19   2.9644f-41  0.0\n",
       " 0.55157   0.518137  0.777861     1.53912f19  1.2871f-41  5.66696f17\n",
       " 0.0       0.0       0.0          1.82072f19  0.0         0.0\n",
       " 0.0       0.0       0.0          0.0         0.0         0.0\n",
       " 0.0       0.0       0.0          1.21519f19  0.0         0.0\n",
       " 0.0       0.0       0.0       …  0.0         0.0         2.30659f18\n",
       " 0.0       0.0       0.0          0.0         0.0         2.44186f17\n",
       " 0.0       0.0       0.0          1.12855f19  1.38f-42    0.0\n",
       " ⋮                             ⋱  ⋮                       \n",
       " 0.382498  0.0       0.273566  …  1.44663f19  2.1664f-41  2.45676f17\n",
       " 0.0       0.0       0.0          0.0         2.0169f-41  7.55726f18\n",
       " 0.0       0.0       0.0          9.38366f18  0.0         0.0\n",
       " 0.0       0.0       0.0          0.0         0.0         0.0\n",
       " 0.727826  1.11333   0.728295     0.0         7.2884f-41  0.0\n",
       " 1.8743    2.03196   2.20054   …  8.65257f18  9.8346f-41  0.0\n",
       " 0.0       0.0       0.0          0.0         0.0         0.0\n",
       " 0.0       0.0       0.0          0.0         1.3322f-41  2.942f18\n",
       " 0.0       0.0       0.0          2.27638f19  0.0         8.44856f18\n",
       " 0.472659  0.928166  0.291572     0.0         0.0         0.0\n",
       " 1.92116   1.88539   2.16058   …  7.47752f18  4.7973f-41  0.0\n",
       " 0.160583  0.124738  0.0          1.60458f19  1.7544f-41  0.0"
      ]
     },
     "execution_count": 31,
     "metadata": {},
     "output_type": "execute_result"
    }
   ],
   "source": [
    "\n",
    "\n",
    "enc(data_x)"
   ]
  },
  {
   "cell_type": "code",
   "execution_count": null,
   "id": "c5e8acac-50ed-47a2-8a07-424ec36c643d",
   "metadata": {},
   "outputs": [],
   "source": [
    "a = [\"2\", \"3\", \"4\", \"5\"]\n",
    "ind = [1,3]\n",
    "a[ind]"
   ]
  },
  {
   "cell_type": "code",
   "execution_count": null,
   "id": "1db5ca7e-2fbc-434c-b252-f36f9d5c6fcf",
   "metadata": {},
   "outputs": [],
   "source": [
    "function ConvEncoder(; imgsize=(365,1,1), nclasses=27) \n",
    "    out_conv_size = (imgsize[1]÷4 - 3, 1, 16)\n",
    "    \n",
    "    return Chain(\n",
    "            Conv((5, 1), imgsize[end]=>8, relu),\n",
    "            MaxPool((2, 1)),\n",
    "            Conv((5, 1), 6=>16, relu),\n",
    "            MaxPool((2, 1)),\n",
    "            flatten,\n",
    "            Dense(prod(out_conv_size), 128, relu), \n",
    "            Dense(128, 64, relu), \n",
    "            Dense(64, nclasses)\n",
    "          )\n",
    "end"
   ]
  }
 ],
 "metadata": {
  "kernelspec": {
   "display_name": "Julia 1.8.3",
   "language": "julia",
   "name": "julia-1.8"
  },
  "language_info": {
   "file_extension": ".jl",
   "mimetype": "application/julia",
   "name": "julia",
   "version": "1.8.3"
  }
 },
 "nbformat": 4,
 "nbformat_minor": 5
}
